{
 "cells": [
  {
   "cell_type": "markdown",
   "metadata": {},
   "source": [
    "### 2000년도 총 출생수\n",
    "\n",
    "2000년도에 태어난 신생아의 정보가 들어있는 year2000을 분석하여, 총 출생수가 출력되는 함수 생성하기\n"
   ]
  },
  {
   "cell_type": "code",
   "execution_count": 2,
   "metadata": {},
   "outputs": [
    {
     "name": "stdout",
     "output_type": "stream",
     "text": [
      "[('year2000', 3775662)]\n"
     ]
    }
   ],
   "source": [
    "import os\n",
    "def baby():\n",
    "    ret=[]\n",
    "    total=0\n",
    "    file = 'c:/Users/sol/Desktop/python_test/baby/year2000.txt'\n",
    "\n",
    "  #1\n",
    "    filename = os.path.basename('c:/Users/sol/Desktop/python_test/baby/year2000.txt')\n",
    "    # print(filename) year2000.txt\n",
    "    filename = filename.split('.')[0]  \n",
    "       \n",
    "  #2\n",
    "    with open(file,'r') as f:\n",
    "        data=f.readlines()\n",
    "        for d in data:\n",
    "            name_sum = d.split(',')[2]\n",
    "            total += int(name_sum)\n",
    "\n",
    "    ret.append( (filename, total) )\n",
    "    return ret\n",
    "\n",
    "print(baby())\n"
   ]
  },
  {
   "cell_type": "markdown",
   "metadata": {},
   "source": [
    "### 2000년도 남아, 여아, 총 출생수"
   ]
  },
  {
   "cell_type": "code",
   "execution_count": 4,
   "metadata": {},
   "outputs": [
    {
     "name": "stdout",
     "output_type": "stream",
     "text": [
      "[('year2000', 'F', 1813960), ('year2000', 'M', 1961702), ('year2000', 'TOTAL', 3775662)]\n"
     ]
    }
   ],
   "source": [
    "import os\n",
    "def baby():\n",
    "    ret=[]\n",
    "    f_cn = 0\n",
    "    m_cn = 0\n",
    "    file = 'c:/Users/sol/Desktop/python_test/baby/year2000.txt'\n",
    "   \n",
    "    filename = os.path.basename('c:/Users/sol/Desktop/python_test/baby/year2000.txt')\n",
    "    filename = filename.split('.')[0]\n",
    "\n",
    "    with open(file,'r') as f:\n",
    "        data=f.readlines()\n",
    "        for d in data:\n",
    "            birth = d.split(',')\n",
    "            if birth[1] == 'F':\n",
    "                f_cn += int(birth[2])\n",
    "            else:\n",
    "                m_cn += int(birth[2])\n",
    "\n",
    "        ret.append( (filename,'F',f_cn) )\n",
    "        ret.append( (filename,'M',m_cn) )\n",
    "        ret.append( (filename,'TOTAL',f_cn + m_cn) )\n",
    "    return ret\n",
    "\n",
    "print(baby())\n"
   ]
  },
  {
   "cell_type": "code",
   "execution_count": 5,
   "metadata": {},
   "outputs": [
    {
     "name": "stdout",
     "output_type": "stream",
     "text": [
      "('F', 1813960)\n",
      "('M', 1961702)\n",
      "('TOTAL', 3775662)\n"
     ]
    }
   ],
   "source": [
    "a=baby()\n",
    "for i in a:\n",
    "    print(i[1:3])"
   ]
  },
  {
   "cell_type": "markdown",
   "metadata": {},
   "source": [
    "### 연도별 출생수 (2000~2010년도) "
   ]
  },
  {
   "cell_type": "code",
   "execution_count": 14,
   "metadata": {},
   "outputs": [
    {
     "name": "stdout",
     "output_type": "stream",
     "text": [
      "[(2000, 3775662), (2001, 3738782), (2002, 3733299), (2003, 3796845), (2004, 3814562), (2005, 3837175), (2006, 3946702), (2007, 3986130), (2008, 3915955), (2009, 3801002), (2010, 3657392)]\n"
     ]
    }
   ],
   "source": [
    "def baby():\n",
    "    ret=[]\n",
    "    for y in range(2000,2011):\n",
    "        total=0\n",
    "        filename='c:/Users/sol/Desktop/python_test/baby/year%d.txt'%y\n",
    "\n",
    "        with open(filename,'r') as f:\n",
    "            data=f.readlines()\n",
    "            for d in data:\n",
    "                name_sum = d.split(',')[2]\n",
    "                total += int(name_sum)\n",
    "            ret.append((y,total))\n",
    "    return ret\n",
    "\n",
    "print(baby())"
   ]
  },
  {
   "cell_type": "code",
   "execution_count": 16,
   "metadata": {},
   "outputs": [
    {
     "name": "stdout",
     "output_type": "stream",
     "text": [
      "2000 3775662\n",
      "2001 3738782\n",
      "2002 3733299\n",
      "2003 3796845\n",
      "2004 3814562\n",
      "2005 3837175\n",
      "2006 3946702\n",
      "2007 3986130\n",
      "2008 3915955\n",
      "2009 3801002\n",
      "2010 3657392\n"
     ]
    }
   ],
   "source": [
    "result = baby()\n",
    "for year, name_sum in result:  \n",
    "    print(year,name_sum)"
   ]
  },
  {
   "cell_type": "code",
   "execution_count": 19,
   "metadata": {},
   "outputs": [
    {
     "name": "stdout",
     "output_type": "stream",
     "text": [
      "2000 3775662\n",
      "2001 7514444\n",
      "2002 11247743\n",
      "2003 15044588\n",
      "2004 18859150\n",
      "2005 22696325\n",
      "2006 26643027\n",
      "2007 30629157\n",
      "2008 34545112\n",
      "2009 38346114\n",
      "2010 42003506\n"
     ]
    }
   ],
   "source": [
    "import os\n",
    "import glob\n",
    "from pandas import Series, DataFrame\n",
    "import pandas as pd\n",
    "import numpy as np\n",
    "\n",
    "all_data = pd.DataFrame()\n",
    "for f in glob.glob(\"c:/Users/sol/Desktop/python_test/baby/year*.txt\"):\n",
    "    filename = os.path.basename(f)\n",
    "    filename = filename.split('.')[0]\n",
    "\n",
    "    df = pd.read_csv(f, names=['name','sex','name_sum'])\n",
    "    all_data = all_data.append(df)\n",
    "    print(filename[4:], all_data['name_sum'].sum())"
   ]
  },
  {
   "cell_type": "markdown",
   "metadata": {},
   "source": [
    "### 정제한 데이터 파일생성(.txt)"
   ]
  },
  {
   "cell_type": "code",
   "execution_count": 20,
   "metadata": {},
   "outputs": [
    {
     "name": "stdout",
     "output_type": "stream",
     "text": [
      "2000,3775662\n",
      "\n",
      "2001,3738782\n",
      "\n",
      "2002,3733299\n",
      "\n",
      "2003,3796845\n",
      "\n",
      "2004,3814562\n",
      "\n",
      "2005,3837175\n",
      "\n",
      "2006,3946702\n",
      "\n",
      "2007,3986130\n",
      "\n",
      "2008,3915955\n",
      "\n",
      "2009,3801002\n",
      "\n",
      "2010,3657392\n",
      "\n"
     ]
    }
   ],
   "source": [
    "with open('c:/Users/sol/Desktop/python_test/baby/year.txt','w') as f:\n",
    "    for year, name_sum in result:\n",
    "        data = '%s,%s\\n'%(year, name_sum)\n",
    "        print(data)\n",
    "        f.write(data)"
   ]
  },
  {
   "cell_type": "markdown",
   "metadata": {},
   "source": [
    "### 2000년도에 태어난 아이 이름 상위 10개 / 성별 상위 5개"
   ]
  },
  {
   "cell_type": "code",
   "execution_count": 31,
   "metadata": {},
   "outputs": [
    {
     "data": {
      "text/html": [
       "<div>\n",
       "<style>\n",
       "    .dataframe thead tr:only-child th {\n",
       "        text-align: right;\n",
       "    }\n",
       "\n",
       "    .dataframe thead th {\n",
       "        text-align: left;\n",
       "    }\n",
       "\n",
       "    .dataframe tbody tr th {\n",
       "        vertical-align: top;\n",
       "    }\n",
       "</style>\n",
       "<table border=\"1\" class=\"dataframe\">\n",
       "  <thead>\n",
       "    <tr style=\"text-align: right;\">\n",
       "      <th></th>\n",
       "      <th>name</th>\n",
       "      <th>sex</th>\n",
       "      <th>name_sum</th>\n",
       "    </tr>\n",
       "  </thead>\n",
       "  <tbody>\n",
       "    <tr>\n",
       "      <th>17649</th>\n",
       "      <td>Jacob</td>\n",
       "      <td>M</td>\n",
       "      <td>34454</td>\n",
       "    </tr>\n",
       "    <tr>\n",
       "      <th>17650</th>\n",
       "      <td>Michael</td>\n",
       "      <td>M</td>\n",
       "      <td>32016</td>\n",
       "    </tr>\n",
       "    <tr>\n",
       "      <th>17651</th>\n",
       "      <td>Matthew</td>\n",
       "      <td>M</td>\n",
       "      <td>28563</td>\n",
       "    </tr>\n",
       "    <tr>\n",
       "      <th>17652</th>\n",
       "      <td>Joshua</td>\n",
       "      <td>M</td>\n",
       "      <td>27522</td>\n",
       "    </tr>\n",
       "    <tr>\n",
       "      <th>0</th>\n",
       "      <td>Emily</td>\n",
       "      <td>F</td>\n",
       "      <td>25949</td>\n",
       "    </tr>\n",
       "    <tr>\n",
       "      <th>17653</th>\n",
       "      <td>Christopher</td>\n",
       "      <td>M</td>\n",
       "      <td>24916</td>\n",
       "    </tr>\n",
       "    <tr>\n",
       "      <th>17654</th>\n",
       "      <td>Nicholas</td>\n",
       "      <td>M</td>\n",
       "      <td>24644</td>\n",
       "    </tr>\n",
       "    <tr>\n",
       "      <th>17655</th>\n",
       "      <td>Andrew</td>\n",
       "      <td>M</td>\n",
       "      <td>23622</td>\n",
       "    </tr>\n",
       "    <tr>\n",
       "      <th>1</th>\n",
       "      <td>Hannah</td>\n",
       "      <td>F</td>\n",
       "      <td>23066</td>\n",
       "    </tr>\n",
       "    <tr>\n",
       "      <th>17656</th>\n",
       "      <td>Joseph</td>\n",
       "      <td>M</td>\n",
       "      <td>22806</td>\n",
       "    </tr>\n",
       "  </tbody>\n",
       "</table>\n",
       "</div>"
      ],
      "text/plain": [
       "              name sex  name_sum\n",
       "17649        Jacob   M     34454\n",
       "17650      Michael   M     32016\n",
       "17651      Matthew   M     28563\n",
       "17652       Joshua   M     27522\n",
       "0            Emily   F     25949\n",
       "17653  Christopher   M     24916\n",
       "17654     Nicholas   M     24644\n",
       "17655       Andrew   M     23622\n",
       "1           Hannah   F     23066\n",
       "17656       Joseph   M     22806"
      ]
     },
     "execution_count": 31,
     "metadata": {},
     "output_type": "execute_result"
    }
   ],
   "source": [
    "import pandas as pd\n",
    "year2000 = pd.read_csv('c:/Users/sol/Desktop/python_test/baby/year2000.txt', names=['name','sex','name_sum'])\n",
    "\n",
    "def top(df, n=5, column='name_sum'): #인수값 집어넣지 않으면 자동으로 5\n",
    "    return df.sort_values(by=column, ascending=False)[:n]  #false말고 [:-n]해도 동일\n",
    "                                                           #인수값으로 받은 컬럼(없다면 자동으로 birth 기준)\n",
    "top(year2000, n=10) # n값 명시 안하면 5\n"
   ]
  },
  {
   "cell_type": "code",
   "execution_count": 32,
   "metadata": {},
   "outputs": [
    {
     "data": {
      "text/html": [
       "<div>\n",
       "<style>\n",
       "    .dataframe thead tr:only-child th {\n",
       "        text-align: right;\n",
       "    }\n",
       "\n",
       "    .dataframe thead th {\n",
       "        text-align: left;\n",
       "    }\n",
       "\n",
       "    .dataframe tbody tr th {\n",
       "        vertical-align: top;\n",
       "    }\n",
       "</style>\n",
       "<table border=\"1\" class=\"dataframe\">\n",
       "  <thead>\n",
       "    <tr style=\"text-align: right;\">\n",
       "      <th></th>\n",
       "      <th></th>\n",
       "      <th>name</th>\n",
       "      <th>sex</th>\n",
       "      <th>name_sum</th>\n",
       "    </tr>\n",
       "    <tr>\n",
       "      <th>sex</th>\n",
       "      <th></th>\n",
       "      <th></th>\n",
       "      <th></th>\n",
       "      <th></th>\n",
       "    </tr>\n",
       "  </thead>\n",
       "  <tbody>\n",
       "    <tr>\n",
       "      <th rowspan=\"5\" valign=\"top\">F</th>\n",
       "      <th>0</th>\n",
       "      <td>Emily</td>\n",
       "      <td>F</td>\n",
       "      <td>25949</td>\n",
       "    </tr>\n",
       "    <tr>\n",
       "      <th>1</th>\n",
       "      <td>Hannah</td>\n",
       "      <td>F</td>\n",
       "      <td>23066</td>\n",
       "    </tr>\n",
       "    <tr>\n",
       "      <th>2</th>\n",
       "      <td>Madison</td>\n",
       "      <td>F</td>\n",
       "      <td>19965</td>\n",
       "    </tr>\n",
       "    <tr>\n",
       "      <th>3</th>\n",
       "      <td>Ashley</td>\n",
       "      <td>F</td>\n",
       "      <td>17991</td>\n",
       "    </tr>\n",
       "    <tr>\n",
       "      <th>4</th>\n",
       "      <td>Sarah</td>\n",
       "      <td>F</td>\n",
       "      <td>17677</td>\n",
       "    </tr>\n",
       "    <tr>\n",
       "      <th rowspan=\"5\" valign=\"top\">M</th>\n",
       "      <th>17649</th>\n",
       "      <td>Jacob</td>\n",
       "      <td>M</td>\n",
       "      <td>34454</td>\n",
       "    </tr>\n",
       "    <tr>\n",
       "      <th>17650</th>\n",
       "      <td>Michael</td>\n",
       "      <td>M</td>\n",
       "      <td>32016</td>\n",
       "    </tr>\n",
       "    <tr>\n",
       "      <th>17651</th>\n",
       "      <td>Matthew</td>\n",
       "      <td>M</td>\n",
       "      <td>28563</td>\n",
       "    </tr>\n",
       "    <tr>\n",
       "      <th>17652</th>\n",
       "      <td>Joshua</td>\n",
       "      <td>M</td>\n",
       "      <td>27522</td>\n",
       "    </tr>\n",
       "    <tr>\n",
       "      <th>17653</th>\n",
       "      <td>Christopher</td>\n",
       "      <td>M</td>\n",
       "      <td>24916</td>\n",
       "    </tr>\n",
       "  </tbody>\n",
       "</table>\n",
       "</div>"
      ],
      "text/plain": [
       "                  name sex  name_sum\n",
       "sex                                 \n",
       "F   0            Emily   F     25949\n",
       "    1           Hannah   F     23066\n",
       "    2          Madison   F     19965\n",
       "    3           Ashley   F     17991\n",
       "    4            Sarah   F     17677\n",
       "M   17649        Jacob   M     34454\n",
       "    17650      Michael   M     32016\n",
       "    17651      Matthew   M     28563\n",
       "    17652       Joshua   M     27522\n",
       "    17653  Christopher   M     24916"
      ]
     },
     "execution_count": 32,
     "metadata": {},
     "output_type": "execute_result"
    }
   ],
   "source": [
    "year2000.groupby('sex').apply(top) "
   ]
  },
  {
   "cell_type": "code",
   "execution_count": 33,
   "metadata": {},
   "outputs": [
    {
     "name": "stdout",
     "output_type": "stream",
     "text": [
      "                  name      sex  name_sum\n",
      "sex                                      \n",
      "3657392 10        2010  3657392       NaN\n",
      "3733299 2         2002  3733299       NaN\n",
      "3738782 1         2001  3738782       NaN\n",
      "3775662 0         2000  3775662       NaN\n",
      "3796845 3         2003  3796845       NaN\n",
      "3801002 9         2009  3801002       NaN\n",
      "3814562 4         2004  3814562       NaN\n",
      "3837175 5         2005  3837175       NaN\n",
      "3915955 8         2008  3915955       NaN\n",
      "3946702 6         2006  3946702       NaN\n",
      "3986130 7         2007  3986130       NaN\n",
      "F       0        Emily        F   25949.0\n",
      "        0        Emily        F   25678.0\n",
      "        0        Emily        F   25048.0\n",
      "        0        Emily        F   25009.0\n",
      "        0        Emily        F   24450.0\n",
      "M       17649    Jacob        M   34454.0\n",
      "        17962    Jacob        M   32509.0\n",
      "        17650  Michael        M   32016.0\n",
      "        18073    Jacob        M   30541.0\n",
      "        17963  Michael        M   29666.0\n"
     ]
    }
   ],
   "source": [
    "import os\n",
    "import glob\n",
    "from pandas import Series, DataFrame\n",
    "import pandas as pd\n",
    "import numpy as np\n",
    "\n",
    "all_data= pd.DataFrame()\n",
    "for f in glob.glob(\"c:/Users/sol/Desktop/python_test/baby/year*.txt\"):\n",
    "    name= os.path.basename(f)\n",
    "    name= name.split('.')[0]\n",
    "\n",
    "    df= pd.read_csv(f,names=['name','sex','name_sum'])\n",
    "    all_data=all_data.append(df)\n",
    " \n",
    "def top(df,n=5,column= 'name_sum'):\n",
    "     return df.sort_values(by= column, ascending= False)[:n]\n",
    "\n",
    "print(all_data.groupby('sex').apply(top))"
   ]
  }
 ],
 "metadata": {
  "kernelspec": {
   "display_name": "Python 3",
   "language": "python",
   "name": "python3"
  },
  "language_info": {
   "codemirror_mode": {
    "name": "ipython",
    "version": 3
   },
   "file_extension": ".py",
   "mimetype": "text/x-python",
   "name": "python",
   "nbconvert_exporter": "python",
   "pygments_lexer": "ipython3",
   "version": "3.6.1"
  }
 },
 "nbformat": 4,
 "nbformat_minor": 2
}

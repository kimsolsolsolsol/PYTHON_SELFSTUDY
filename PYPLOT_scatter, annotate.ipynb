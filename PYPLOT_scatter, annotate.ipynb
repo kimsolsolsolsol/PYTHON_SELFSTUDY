{
 "cells": [
  {
   "cell_type": "code",
   "execution_count": 1,
   "metadata": {
    "collapsed": true
   },
   "outputs": [],
   "source": [
    "import matplotlib.pyplot as plt\n",
    "import numpy as np\n",
    " \n",
    "\n",
    "x1 = [1, 2, 11, 20, 6, 9]\n",
    "y1 = [3, 7, 10, 20, 16, 30]\n",
    " \n",
    "x2 = [5, 7, 1, 6, 9, 2]\n",
    "y2 = [3, 8, 10, 23, 4, 32]"
   ]
  },
  {
   "cell_type": "code",
   "execution_count": 2,
   "metadata": {},
   "outputs": [
    {
     "name": "stderr",
     "output_type": "stream",
     "text": [
      "C:\\Users\\sol\\Anaconda3\\lib\\site-packages\\matplotlib\\axes\\_axes.py:545: UserWarning: No labelled objects found. Use label='...' kwarg on individual plots.\n",
      "  warnings.warn(\"No labelled objects found. \"\n"
     ]
    },
    {
     "data": {
      "image/png": "[encoded data removed]",
      "text/plain": [
       "<matplotlib.figure.Figure at 0x4516f182e8>"
      ]
     },
     "metadata": {},
     "output_type": "display_data"
    }
   ],
   "source": [
    "plt.title('two scatter') # 그래프 타이틀 설정\n",
    "\n",
    "plt.scatter(x1, y1, marker='s', c='green')\n",
    "plt.scatter(x2, y2, marker='*', c='red') \n",
    "\n",
    "plt.xlabel('X Data') # X, Y축 이름 \n",
    "plt.ylabel('Y Data')\n",
    " \n",
    "plt.legend() # 범례 표시\n",
    "plt.grid(True) # 눈금 표시 함수\n",
    "plt.show()"
   ]
  },
  {
   "cell_type": "code",
   "execution_count": 3,
   "metadata": {
    "collapsed": true
   },
   "outputs": [],
   "source": [
    "import matplotlib.pyplot as plt\n",
    "import numpy as np\n",
    " \n",
    "x1 = [1, 2, 11, 20, 6, 9]\n",
    "y1 = [3, 7, 10, 20, 16, 30]"
   ]
  },
  {
   "cell_type": "code",
   "execution_count": 4,
   "metadata": {},
   "outputs": [
    {
     "data": {
      "image/png": "[encoded data removed]",
      "text/plain": [
       "<matplotlib.figure.Figure at 0x4514eafc18>"
      ]
     },
     "metadata": {},
     "output_type": "display_data"
    }
   ],
   "source": [
    "boxfeat = dict(boxstyle=\"round4\", alpha=0.8, fc='w') # box 속성\n",
    "arrow = dict(arrowstyle='-|>', connectionstyle='arc3,rad=0.2', fc=\"w\") # 화살표 속성\n",
    "\n",
    "plt.title('annotation') # 그래프 타이틀  \n",
    "plt.scatter(x1, y1, marker='*', color='red', s=50 )\n",
    " \n",
    "plt.annotate('STAR', xy=(11,10), xytext=(15, 15), size=20, # xy는 도착점, xytext는 text가 위치할 장소\n",
    "             ha='center', va='center',  # 수평 정렬 / 수직 정렬\n",
    "             arrowprops=arrow, bbox=boxfeat ) # 화살표와 박스의 속성을 설정\n",
    " \n",
    "plt.grid(True)\n",
    "plt.show()"
   ]
  },
  {
   "cell_type": "code",
   "execution_count": null,
   "metadata": {
    "collapsed": true
   },
   "outputs": [],
   "source": []
  }
 ],
 "metadata": {
  "kernelspec": {
   "display_name": "Python 3",
   "language": "python",
   "name": "python3"
  },
  "language_info": {
   "codemirror_mode": {
    "name": "ipython",
    "version": 3
   },
   "file_extension": ".py",
   "mimetype": "text/x-python",
   "name": "python",
   "nbconvert_exporter": "python",
   "pygments_lexer": "ipython3",
   "version": "3.6.1"
  }
 },
 "nbformat": 4,
 "nbformat_minor": 2
}
